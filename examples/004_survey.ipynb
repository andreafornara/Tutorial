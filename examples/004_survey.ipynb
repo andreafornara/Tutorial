{
  "cells": [
    {
      "cell_type": "code",
      "metadata": {},
      "source": [
        "import xtrack as xt\n",
        "import numpy as np\n",
        "import pandas as pd\n",
        "import matplotlib.pyplot as plt\n",
        "import matplotlib.ticker\n",
        "import xpart as xp\n",
        "import yaml\n",
        "import matplotlib.patches as patches"
      ],
      "outputs": [],
      "execution_count": null
    },
    {
      "cell_type": "markdown",
      "metadata": {},
      "source": [
        "In this example we will look at the `survey` of the collider.\n",
        "The survey represents the physical position of the elements in the collider in the laboratory frame.\n",
        "We set the origin of the survey at the IP1.\n",
        "\n",
        "First of all we need to load our collider. \n",
        "This is a json file that contains all the information on the collider.\n",
        "Namely it contains the two lines `lhcb1` and `lhcb2` corresponding to the two beams."
      ]
    },
    {
      "cell_type": "code",
      "metadata": {},
      "source": [
        "collider = xt.Multiline.from_json('../data/collider.json')\n",
        "collider.build_trackers()\n",
        "my_dict = collider.lhcb1.to_dict()"
      ],
      "outputs": [],
      "execution_count": null
    },
    {
      "cell_type": "markdown",
      "metadata": {},
      "source": [
        "Now we want to call the `survey` method, two things are important:\n",
        "- We want to set the starting point at IP1;\n",
        "- In the MAD-X fashion b2 has a different reference frame w.r.t. b1. \n",
        "To be able to plot the two together we need to `reverse` the survey of the b2. "
      ]
    },
    {
      "cell_type": "code",
      "metadata": {},
      "source": [
        "survey_b1 = collider['lhcb1'].survey(element0='ip1')\n",
        "survey_b2 = collider['lhcb2'].survey(element0='ip1').reverse()"
      ],
      "outputs": [],
      "execution_count": null
    },
    {
      "cell_type": "markdown",
      "metadata": {},
      "source": [
        "Let's look at the `HL-LHC` machine, in the plot you can notice:\n",
        "- The `ARCs` in green, these are the regions where the FODO cells are responsible for curving and focusing the beam;\n",
        "- The `Dispersion Suppression` regions in violet, to remove the dispersion caused by the preceeding section;\n",
        "- The `Straigh Sections` in red, the regions of the tunnel where the total dipolar contribution is zero;\n",
        "- The 4 `IPs` in red, those with a shared vacuum pipe (i.e. the ones where the bunches collide and the experiments are built):\n",
        "    - `IP1` : ATLAS experiment;\n",
        "    - `IP2` : ALICE experiment;\n",
        "    - `IP5` : CMS experiment;\n",
        "    - `IP8` : LHCb experiment;\n",
        "- The 4 `IPs` in black, the regions where the two bunches do not collide :\n",
        "    - `IP3` : Momentum cleaning;\n",
        "    - `IP4` : RF and Beam Instrumentation;\n",
        "    - `IP6` : Beam dumping system;\n",
        "    - `IP7` : Betatron cleaning;\n",
        "Now we want to plot the survey of the two beams together."
      ]
    },
    {
      "cell_type": "code",
      "metadata": {},
      "source": [
        "fig, ax = plt.subplots(1,1)\n",
        "fig.set_size_inches(8.5, 8.5)\n",
        "fontsize = 20\n",
        "fig.suptitle('Survey of the LHC lattice for Beam 1 and Beam 2',fontsize = fontsize )\n",
        "ax.plot(-survey_b1['Z'],-survey_b1['X'], color='red')  \n",
        "ip_links = ['12','23','34','45','56','67','78','81']\n",
        "for ii in ip_links:\n",
        "    ax.plot(-survey_b1.rows['s.arc.'+ii+'.b1':'e.arc.'+ii+'.b1', ]['Z'],\n",
        "            -survey_b1.rows['s.arc.'+ii+'.b1':'e.arc.'+ii+'.b1', ]['X'],\n",
        "            color='green')\n",
        "    ax.text(-survey_b1.rows['s.arc.'+ii+'.b1':'e.arc.'+ii+'.b1', ]['Z'].mean(),\n",
        "            -survey_b1.rows['s.arc.'+ii+'.b1':'e.arc.'+ii+'.b1', ]['X'].mean(),\n",
        "           'ARC'+ii, fontsize=fontsize, color='green')\n",
        "    \n",
        "r_ip = ['r1','r2','r3','r4','r5','r6','r7','r8']\n",
        "l_ip = ['l1','l2','l3','l4','l5','l6','l7','l8']\n",
        "for ii in r_ip:\n",
        "    ax.plot(-survey_b1.rows['s.ds.'+ii+'.b1':'e.ds.'+ii+'.b1', ]['Z'],\n",
        "           -survey_b1.rows['s.ds.'+ii+'.b1':'e.ds.'+ii+'.b1', ]['X'],\n",
        "           color='purple')\n",
        "\n",
        "for ii in l_ip:\n",
        "    ax.plot(-survey_b1.rows['s.ds.'+ii+'.b1':'e.ds.'+ii+'.b1', ]['Z'],\n",
        "            -survey_b1.rows['s.ds.'+ii+'.b1':'e.ds.'+ii+'.b1', ]['X'],\n",
        "            color='purple')\n",
        "\n",
        "ax.plot(-survey_b1.rows['ip1']['Z'],-survey_b1.rows['ip1']['X'],  'o', markersize=5, color='red')\n",
        "ax.text(-survey_b1.rows['ip1']['Z'],-survey_b1.rows['ip1']['X'], 'IP1', fontsize=fontsize, color='red')\n",
        "ax.plot(-survey_b1.rows['ip2']['Z'],-survey_b1.rows['ip2']['X'],  'o', markersize=5, color='red')\n",
        "ax.text(-survey_b1.rows['ip2']['Z']+300,-survey_b1.rows['ip2']['X'], 'IP2', fontsize=fontsize, color='red')\n",
        "ax.plot(-survey_b1.rows['ip5']['Z'],-survey_b1.rows['ip5']['X'],  'o', markersize=5, color='red')\n",
        "ax.text(-survey_b1.rows['ip5']['Z'],-survey_b1.rows['ip5']['X']+120, 'IP5', fontsize=fontsize, color='red')\n",
        "ax.plot(-survey_b1.rows['ip8']['Z'],-survey_b1.rows['ip8']['X'],  'o', markersize=5, color='red')\n",
        "ax.text(-survey_b1.rows['ip8']['Z']-800,-survey_b1.rows['ip8']['X'], 'IP8', fontsize=fontsize, color='red')\n",
        "ax.plot(-survey_b1.rows['ip3']['Z'],-survey_b1.rows['ip3']['X'],  'o', markersize=5, color='black')\n",
        "ax.text(-survey_b1.rows['ip3']['Z'],-survey_b1.rows['ip3']['X'], 'IP3', fontsize=fontsize, color='black')\n",
        "ax.plot(-survey_b1.rows['ip4']['Z'],-survey_b1.rows['ip4']['X'],  'o', markersize=5, color='black')\n",
        "ax.text(-survey_b1.rows['ip4']['Z']+300,-survey_b1.rows['ip4']['X'], 'IP4', fontsize=fontsize, color='black')\n",
        "ax.plot(-survey_b1.rows['ip6']['Z'],-survey_b1.rows['ip6']['X'],  'o', markersize=5, color='black')\n",
        "ax.text(-survey_b1.rows['ip6']['Z'],-survey_b1.rows['ip6']['X']+120, 'IP6', fontsize=fontsize, color='black')\n",
        "ax.plot(-survey_b1.rows['ip7']['Z'],-survey_b1.rows['ip7']['X'],  'o', markersize=5, color='black')\n",
        "ax.text(-survey_b1.rows['ip7']['Z']-800,-survey_b1.rows['ip7']['X'], 'IP7', fontsize=fontsize, color='black')\n",
        "  \n",
        "ax.set_xlabel('z [m]', fontsize = fontsize)\n",
        "ax.set_ylabel('x [m]', fontsize = fontsize)\n",
        "ax.grid()\n",
        "plt.legend(fontsize = fontsize)\n",
        "plt.tight_layout()"
      ],
      "outputs": [],
      "execution_count": null
    },
    {
      "cell_type": "markdown",
      "metadata": {},
      "source": [
        "Let's zoom into IP3, a non colliding IP. We can see how the two beam pipes are well separated.\n",
        "Notice: we call `Straight Section` something that is not strictly straight, since we have the 'doglegs'.\n",
        "What we mean by 'Straight' is a total dipolar contribution equal to zero in that section."
      ]
    },
    {
      "cell_type": "code",
      "metadata": {},
      "source": [
        "fig, ax = plt.subplots(1,1)\n",
        "fig.set_size_inches(8.5, 8.5)\n",
        "fontsize = 20\n",
        "#-----------------b1-----------------\n",
        "ii = 'r3'\n",
        "ax.plot(survey_b1.rows['s.ds.'+ii+'.b1':'e.ds.'+ii+'.b1', ]['Z'],\n",
        "        -survey_b1.rows['s.ds.'+ii+'.b1':'e.ds.'+ii+'.b1', ]['X'],\n",
        "        color='purple', label='Dispersion Suppressors')\n",
        "ax.plot(survey_b2.rows['s.ds.'+ii+'.b2':'e.ds.'+ii+'.b2', ]['Z'],\n",
        "        -survey_b2.rows['s.ds.'+ii+'.b2':'e.ds.'+ii+'.b2', ]['X'],\n",
        "        color='violet', label='Dispersion Suppressors b2')\n",
        "\n",
        "ii = 'l3'\n",
        "ax.plot(survey_b1.rows['s.ds.'+ii+'.b1':'e.ds.'+ii+'.b1', ]['Z'],\n",
        "        -survey_b1.rows['s.ds.'+ii+'.b1':'e.ds.'+ii+'.b1', ]['X'],\n",
        "        color='purple')\n",
        "ax.plot(survey_b2.rows['s.ds.'+ii+'.b2':'e.ds.'+ii+'.b2', ]['Z'],\n",
        "        -survey_b2.rows['s.ds.'+ii+'.b2':'e.ds.'+ii+'.b2', ]['X'],\n",
        "        color='violet')\n",
        "ax.plot(survey_b1.rows['ip3':'s.ds.'+'r3'+'.b1', ]['Z'],\n",
        "        -survey_b1.rows['ip3':'s.ds.'+'r3'+'.b1', ]['X'],\n",
        "        color='red', label='Straight Section')\n",
        "ax.plot(survey_b1.rows['e.ds.'+'l3'+'.b1':, ]['Z'],\n",
        "        -survey_b1.rows['e.ds.'+'l3'+'.b1':, ]['X'],\n",
        "        color='red')\n",
        "ii = 'r3'\n",
        "ax.plot(survey_b2.rows[:'e.ds.'+ii+'.b2', ]['Z'][0:175],\n",
        "        -survey_b2.rows[:'e.ds.'+ii+'.b2', ]['X'][0:175],\n",
        "        color='lightcoral', label='Straight Section b2')\n",
        "ax.plot(survey_b2.rows['e.ds.'+'l3'+'.b2':, ]['Z'],\n",
        "        -survey_b2.rows['e.ds.'+'l3'+'.b2':, ]['X'],\n",
        "        color='lightcoral')\n",
        "ax.plot(survey_b1.rows['ip3']['Z'], -survey_b1.rows['ip3']['X'], 'o', markersize=5, color='black', label='IP3, b1')\n",
        "ax.plot(survey_b2.rows['ip3']['Z'], -survey_b2.rows['ip3']['X'], 'o', markersize=5, color='grey', label='IP3, b2')\n",
        "plt.title('Zoom in around IP3', fontsize = fontsize)\n",
        "plt.legend()\n",
        "plt.xlabel('z [m]', fontsize = fontsize)\n",
        "plt.ylabel('x [m]', fontsize = fontsize)\n",
        "plt.xlim(4204,4205)\n",
        "plt.ylim(3750,4650)\n",
        "plt.grid()"
      ],
      "outputs": [],
      "execution_count": null
    },
    {
      "cell_type": "markdown",
      "metadata": {},
      "source": [
        "Let's zoom into IP5, a colliding IP where the CMS experiment is located. \n",
        "Notice the following:\n",
        "- There is a common vacuum pipe in this case, the interaction is possible;\n",
        "- The bunches SWAP the original pipe each round, and this happens at each of the 4 experiments, why? This is crucial to ensure that the two bunches travel the same distance each round.\n",
        "- A shared common pipe means interaction between the two bunches even at long distances: this is why here we talk about Long Range Beam Beam together with the Head On interaction happening exactly under IP5."
      ]
    },
    {
      "cell_type": "code",
      "metadata": {},
      "source": [
        "fig, ax = plt.subplots(1,1)\n",
        "fig.set_size_inches(8.5, 8.5)\n",
        "fontsize = 20\n",
        "ii = 'r5'\n",
        "ax.plot(survey_b1.rows['s.ds.'+ii+'.b1':'e.ds.'+ii+'.b1', ]['Z'],\n",
        "        -survey_b1.rows['s.ds.'+ii+'.b1':'e.ds.'+ii+'.b1', ]['X'],\n",
        "        color='purple', label='Dispersion Suppressors')\n",
        "ax.plot(survey_b2.rows['s.ds.'+ii+'.b2':'e.ds.'+ii+'.b2', ]['Z'],\n",
        "        -survey_b2.rows['s.ds.'+ii+'.b2':'e.ds.'+ii+'.b2', ]['X'],\n",
        "        color='violet', label='Dispersion Suppressors b2')\n",
        "ii = 'l5'\n",
        "ax.plot(survey_b1.rows['s.ds.'+ii+'.b1':'e.ds.'+ii+'.b1', ]['Z'],\n",
        "        -survey_b1.rows['s.ds.'+ii+'.b1':'e.ds.'+ii+'.b1', ]['X'],\n",
        "        color='purple')\n",
        "ax.plot(survey_b2.rows['s.ds.'+ii+'.b2':'e.ds.'+ii+'.b2', ]['Z'],\n",
        "        -survey_b2.rows['s.ds.'+ii+'.b2':'e.ds.'+ii+'.b2', ]['X'],\n",
        "        color='violet')\n",
        "ax.plot(survey_b1.rows['s.ds.'+'l5'+'.b1':'ip5', ]['Z'][310:],\n",
        "        -survey_b1.rows['s.ds.'+'l5'+'.b1':'ip5', ]['X'][310:],\n",
        "        color='red')\n",
        "ax.plot(survey_b1.rows['ip5':'e.ds.'+'r5'+'.b1', ]['Z'][:230],\n",
        "        -survey_b1.rows['ip5':'e.ds.'+'r5'+'.b1', ]['X'][:230],\n",
        "        color='red', label='Straight Section')\n",
        "\n",
        "ax.plot(survey_b2.rows['ip5':'e.ds.'+'r5'+'.b2', ]['Z'][:230],\n",
        "        -survey_b2.rows['ip5':'e.ds.'+'r5'+'.b2', ]['X'][:230],\n",
        "        color='red', label='Straight Section b2')\n",
        "ax.plot(survey_b2.rows['ip5':'e.ds.'+'r5'+'.b2', ]['Z'][:75],\n",
        "        -survey_b2.rows['ip5':'e.ds.'+'r5'+'.b2', ]['X'][:75],\n",
        "        color='k', label='Common Pipe')\n",
        "\n",
        "ax.plot(survey_b2.rows['s.ds.'+'l5'+'.b2':'ip5', ]['Z'][310:],\n",
        "        -survey_b2.rows['s.ds.'+'l5'+'.b2':'ip5', ]['X'][310:],\n",
        "        color='red')\n",
        "ax.plot(survey_b2.rows['s.ds.'+'l5'+'.b2':'ip5', ]['Z'][495:],\n",
        "        -survey_b2.rows['s.ds.'+'l5'+'.b2':'ip5', ]['X'][495:],\n",
        "        color='k')\n",
        "ax.plot(survey_b2.rows['ip5']['Z'], -survey_b2.rows['ip5']['X'], 'o', markersize=5, color='grey', label='IP5')\n",
        "plt.title('Zoom in around IP5', fontsize = fontsize)\n",
        "plt.legend()\n",
        "plt.xlabel('z [m]', fontsize = fontsize)\n",
        "plt.ylabel('x [m]', fontsize = fontsize)\n",
        "plt.xlim(-550,550)\n",
        "plt.ylim(8409.25,8409.75)\n",
        "plt.grid()"
      ],
      "outputs": [],
      "execution_count": null
    },
    {
      "cell_type": "markdown",
      "metadata": {},
      "source": [
        "Now we can calculate the distance between the two beams at each IP.\n",
        "We can see that the distance is zero at the interaction points and it's greater than zero at the other IPs."
      ]
    },
    {
      "cell_type": "code",
      "metadata": {},
      "source": [
        "fig, ax = plt.subplots(1,1)\n",
        "fig.set_size_inches(20, 8.5)\n",
        "fontsize = 20\n",
        "ips =['ip1','ip2','ip3','ip4','ip5','ip6','ip7','ip8']\n",
        "positions_b1 = np.zeros((len(ips),2))\n",
        "positions_b2 = np.zeros((len(ips),2))\n",
        "for ii in ips:\n",
        "        positions_b1[ips.index(ii),0] = survey_b1.rows[ii]['Z']\n",
        "        positions_b1[ips.index(ii),1] = survey_b1.rows[ii]['X']\n",
        "        positions_b2[ips.index(ii),0] = survey_b2.rows[ii]['Z']\n",
        "        positions_b2[ips.index(ii),1] = survey_b2.rows[ii]['X']\n",
        "distances = []\n",
        "for ii in range(len(ips)):\n",
        "        print(ips[ii],np.sqrt((positions_b1[ii,0]-positions_b2[ii,0])**2+(positions_b1[ii,1]-positions_b2[ii,1])**2))\n",
        "        distances.append(np.sqrt((positions_b1[ii,0]-positions_b2[ii,0])**2+(positions_b1[ii,1]-positions_b2[ii,1])**2)*100)\n",
        "ax.plot(ips,distances,'o',markersize=10)\n",
        "plt.title('Distance between IPs', fontsize = fontsize)\n",
        "plt.xlabel('IP name', fontsize = fontsize)\n",
        "plt.ylabel('Distance [cm]', fontsize = fontsize)\n",
        "plt.grid()"
      ],
      "outputs": [],
      "execution_count": null
    }
  ],
  "metadata": {
    "anaconda-cloud": {},
    "kernelspec": {
      "display_name": "Python 3",
      "language": "python",
      "name": "python3"
    },
    "language_info": {
      "codemirror_mode": {
        "name": "ipython",
        "version": 3
      },
      "file_extension": ".py",
      "mimetype": "text/x-python",
      "name": "python",
      "nbconvert_exporter": "python",
      "pygments_lexer": "ipython3",
      "version": "3.6.1"
    }
  },
  "nbformat": 4,
  "nbformat_minor": 4
}