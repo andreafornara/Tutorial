{
  "cells": [
    {
      "cell_type": "code",
      "metadata": {},
      "source": [
        "import xtrack as xt\n",
        "import numpy as np\n",
        "import pandas as pd\n",
        "import matplotlib.pyplot as plt\n",
        "import xpart as xp\n",
        "import xobjects as xo\n",
        "import yaml\n",
        "import itertools\n",
        "import NAFFlib"
      ],
      "outputs": [],
      "execution_count": null
    },
    {
      "cell_type": "code",
      "metadata": {},
      "source": [
        "# As a useful exercise to put in practice what we learned so far, we will now\n",
        "# track particles, obtain the tunes and plot the footprint of the particles\n",
        "# Let's setup the collider as always\n",
        "collider = xt.Multiline.from_json('../data/collider.json')\n",
        "collider.build_trackers()\n",
        "with open('../data/config.yaml', \"r\") as fid:\n",
        "        config = yaml.safe_load(fid)\n",
        "    \n",
        "twiss_b1 = collider['lhcb1'].twiss()\n",
        "ctx = xo.ContextCpu()\n",
        "# First of all we change the octupole strength\n",
        "collider.vars['i_oct_b1'] = 250"
      ],
      "outputs": [],
      "execution_count": null
    },
    {
      "cell_type": "code",
      "metadata": {},
      "source": [
        "# Now we define the amplitudes and the angles of the particles\n",
        "twiss_b1 = collider['lhcb1'].twiss()\n",
        "r_min = 1.1\n",
        "r_max = 6\n",
        "radial_list = np.linspace(r_min, r_max, 40, endpoint=False)\n",
        "n_angles = 5\n",
        "theta_list = np.linspace(10, 80, n_angles+10)[1:-1]\n",
        "particle_list = [(particle_id, ii[0], ii[1]) for particle_id, ii in\n",
        "                 enumerate(itertools.product(radial_list, theta_list))]\n",
        "particle_list = list(np.array_split(particle_list, 1))\n",
        "for ii, my_list in enumerate(particle_list):\n",
        "    print(ii, my_list)\n",
        "    my_parts = pd.DataFrame(my_list,\n",
        "                columns=['particle_id','normalized amplitude in xy-plane',\n",
        "                         'angle in xy-plane [deg]'])\n",
        "length = len(my_parts['angle in xy-plane [deg]'])\n",
        "r  = my_parts['normalized amplitude in xy-plane']\n",
        "theta = my_parts['angle in xy-plane [deg]']*np.pi/180\n",
        "# We build the normalized coordinates\n",
        "x_in_sigmas = r*np.cos(theta)\n",
        "px_in_sigmas = 0\n",
        "y_in_sigmas = r*np.sin(theta)\n",
        "py_in_sigmas = 0\n",
        "zeta = 0\n",
        "delta = 0\n",
        "# We convert the coordinates to numpy arrays\n",
        "x_in_sigmas = np.array(x_in_sigmas)\n",
        "y_in_sigmas = np.array(y_in_sigmas)\n",
        "# We define the emittances\n",
        "normal_emitt_x = 2.5e-6\n",
        "normal_emitt_y = 2.5e-6"
      ],
      "outputs": [],
      "execution_count": null
    },
    {
      "cell_type": "code",
      "metadata": {},
      "source": [
        "line = collider['lhcb1']\n",
        "particle_ref = xp.Particles(\n",
        "                    mass0=xp.PROTON_MASS_EV, q0=1, energy0=7000e9)    \n",
        "particles = xp.build_particles(\n",
        "    line=line,\n",
        "    particle_ref=particle_ref,\n",
        "    zeta=zeta, delta=delta,\n",
        "    x_norm=x_in_sigmas, px_norm=px_in_sigmas,\n",
        "    y_norm=y_in_sigmas, py_norm=py_in_sigmas,\n",
        "    nemitt_x=normal_emitt_x, nemitt_y = normal_emitt_y)"
      ],
      "outputs": [],
      "execution_count": null
    },
    {
      "cell_type": "code",
      "metadata": {},
      "source": [
        "fig, ax = plt.subplots(figsize=(10, 10))\n",
        "plt.plot(x_in_sigmas,y_in_sigmas,'.')\n",
        "plt.xlabel(r'x[$\\sigma$]', size = 20)\n",
        "plt.ylabel(r'y[$\\sigma$]', size = 20)\n",
        "plt.grid()"
      ],
      "outputs": [],
      "execution_count": null
    },
    {
      "cell_type": "code",
      "metadata": {},
      "source": [
        "# This time we need to save all the values of the coordinates at each turn\n",
        "# so that we can extract the tunes\n",
        "n_turns = 1024\n",
        "collider['lhcb1'].track(particles, num_turns=n_turns,\n",
        "              turn_by_turn_monitor=True)"
      ],
      "outputs": [],
      "execution_count": null
    },
    {
      "cell_type": "code",
      "metadata": {},
      "source": [
        "# We retrieve the turn by turn data\n",
        "print('We tracked ',np.shape(collider['lhcb1'].record_last_track.x)[0], \n",
        "      'particles, for ', np.shape(collider['lhcb1'].record_last_track.x)[1], 'turns')\n",
        "x = collider['lhcb1'].record_last_track.x\n",
        "y = collider['lhcb1'].record_last_track.y\n",
        "# We can print the values of the coordinates for the first particle\n",
        "print('The x coordinate of the first particle is ', x[0,:])\n",
        "# We can now compute the tunes with the NAFF algorithm\n",
        "qx_i = []\n",
        "qy_i = []\n",
        "for ii in range(len(x)):\n",
        "    qx_i.append(NAFFlib.get_tune(x[ii,:]))\n",
        "    qy_i.append(NAFFlib.get_tune(y[ii,:]))\n",
        "qx_i = np.array(qx_i)\n",
        "qy_i = np.array(qy_i)\n",
        "# plot the tunes\n",
        "fig, ax = plt.subplots(figsize=(5, 5))\n",
        "plt.plot(qx_i, qy_i, '.')\n",
        "#plot a star at twiss_b1[\"mux\"][-1] and twiss_b1[\"muy\"][-1]\n",
        "plt.plot(twiss_b1[\"mux\"][-1]%1, twiss_b1[\"muy\"][-1]%1, '*', markersize = 10, label = 'Machine Tune')\n",
        "plt.xlabel(r'$q_x$', size = 10)\n",
        "plt.ylabel(r'$q_y$', size = 10)\n",
        "plt.legend(fontsize = 10)\n",
        "plt.title('Footprint', size = 10)\n",
        "plt.grid()\n",
        "#Now repeat the exercise for an octupolar current of -250 A!"
      ],
      "outputs": [],
      "execution_count": null
    }
  ],
  "metadata": {
    "anaconda-cloud": {},
    "kernelspec": {
      "display_name": "Python 3",
      "language": "python",
      "name": "python3"
    },
    "language_info": {
      "codemirror_mode": {
        "name": "ipython",
        "version": 3
      },
      "file_extension": ".py",
      "mimetype": "text/x-python",
      "name": "python",
      "nbconvert_exporter": "python",
      "pygments_lexer": "ipython3",
      "version": "3.6.1"
    }
  },
  "nbformat": 4,
  "nbformat_minor": 4
}